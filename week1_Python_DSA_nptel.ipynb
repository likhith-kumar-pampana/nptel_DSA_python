{
  "nbformat": 4,
  "nbformat_minor": 0,
  "metadata": {
    "colab": {
      "provenance": []
    },
    "kernelspec": {
      "name": "python3",
      "display_name": "Python 3"
    },
    "language_info": {
      "name": "python"
    }
  },
  "cells": [
    {
      "cell_type": "markdown",
      "source": [
        "# classes and objects"
      ],
      "metadata": {
        "id": "ljJdh2CONP_Y"
      }
    },
    {
      "cell_type": "code",
      "execution_count": 10,
      "metadata": {
        "id": "rRrYjfeIMwUa"
      },
      "outputs": [],
      "source": [
        "class Point:\n",
        "  def __init__(self, a=0, b=0):\n",
        "    self.x = a\n",
        "    self.y = b\n",
        "\n",
        "  def translate(self, deltax, deltay):\n",
        "    self.x += deltax\n",
        "    self.y +=deltay\n",
        "\n",
        "  def odistance(self):     # distance from origin\n",
        "    import math\n",
        "    d = math.sqrt(self.x**2 + self.y**2)\n",
        "    return (d)"
      ]
    },
    {
      "cell_type": "code",
      "source": [
        "p = Point(3,4)\n",
        "q = Point(7,10)"
      ],
      "metadata": {
        "id": "Q9X5y3KXN6ou"
      },
      "execution_count": 11,
      "outputs": []
    },
    {
      "cell_type": "code",
      "source": [
        "print(p)"
      ],
      "metadata": {
        "colab": {
          "base_uri": "https://localhost:8080/"
        },
        "id": "wnaOmRhdN6lT",
        "outputId": "ac3e0f6a-e89e-4aa4-e08c-193d090f9843"
      },
      "execution_count": 12,
      "outputs": [
        {
          "output_type": "stream",
          "name": "stdout",
          "text": [
            "<__main__.Point object at 0x7e920dd6b880>\n"
          ]
        }
      ]
    },
    {
      "cell_type": "code",
      "source": [
        "print(p+q)"
      ],
      "metadata": {
        "colab": {
          "base_uri": "https://localhost:8080/",
          "height": 175
        },
        "id": "Xv-aEEMsN6e0",
        "outputId": "162fb154-fb3f-4bf9-877f-e83a5ea923ea"
      },
      "execution_count": 13,
      "outputs": [
        {
          "output_type": "error",
          "ename": "TypeError",
          "evalue": "unsupported operand type(s) for +: 'Point' and 'Point'",
          "traceback": [
            "\u001b[0;31m---------------------------------------------------------------------------\u001b[0m",
            "\u001b[0;31mTypeError\u001b[0m                                 Traceback (most recent call last)",
            "\u001b[0;32m<ipython-input-13-1886228b68be>\u001b[0m in \u001b[0;36m<cell line: 1>\u001b[0;34m()\u001b[0m\n\u001b[0;32m----> 1\u001b[0;31m \u001b[0mprint\u001b[0m\u001b[0;34m(\u001b[0m\u001b[0mp\u001b[0m\u001b[0;34m+\u001b[0m\u001b[0mq\u001b[0m\u001b[0;34m)\u001b[0m\u001b[0;34m\u001b[0m\u001b[0;34m\u001b[0m\u001b[0m\n\u001b[0m",
            "\u001b[0;31mTypeError\u001b[0m: unsupported operand type(s) for +: 'Point' and 'Point'"
          ]
        }
      ]
    },
    {
      "cell_type": "code",
      "source": [
        "## we need to use the special functions to add this functionality to the class\n",
        "\n",
        "## but we can use the already defined functions like"
      ],
      "metadata": {
        "id": "HZyJcKdXN6bp"
      },
      "execution_count": 14,
      "outputs": []
    },
    {
      "cell_type": "code",
      "source": [
        "p.odistance(), q.odistance()"
      ],
      "metadata": {
        "colab": {
          "base_uri": "https://localhost:8080/"
        },
        "id": "kIQmlDsYOh8T",
        "outputId": "cb02aade-e09b-442b-f27a-340d5d4bd42d"
      },
      "execution_count": 15,
      "outputs": [
        {
          "output_type": "execute_result",
          "data": {
            "text/plain": [
              "(5.0, 12.206555615733702)"
            ]
          },
          "metadata": {},
          "execution_count": 15
        }
      ]
    },
    {
      "cell_type": "code",
      "source": [
        "p.r    # cuz we did not define r (polar coordinates)"
      ],
      "metadata": {
        "colab": {
          "base_uri": "https://localhost:8080/",
          "height": 175
        },
        "id": "Ywklu41lOj0q",
        "outputId": "dd7d21e4-d0b9-4d71-c78c-f6f67ca3921c"
      },
      "execution_count": 17,
      "outputs": [
        {
          "output_type": "error",
          "ename": "AttributeError",
          "evalue": "'Point' object has no attribute 'r'",
          "traceback": [
            "\u001b[0;31m---------------------------------------------------------------------------\u001b[0m",
            "\u001b[0;31mAttributeError\u001b[0m                            Traceback (most recent call last)",
            "\u001b[0;32m<ipython-input-17-19d530a54d63>\u001b[0m in \u001b[0;36m<cell line: 1>\u001b[0;34m()\u001b[0m\n\u001b[0;32m----> 1\u001b[0;31m \u001b[0mp\u001b[0m\u001b[0;34m.\u001b[0m\u001b[0mr\u001b[0m    \u001b[0;31m# cuz we did not define r (polar coordinates)\u001b[0m\u001b[0;34m\u001b[0m\u001b[0;34m\u001b[0m\u001b[0m\n\u001b[0m",
            "\u001b[0;31mAttributeError\u001b[0m: 'Point' object has no attribute 'r'"
          ]
        }
      ]
    },
    {
      "cell_type": "markdown",
      "source": [
        "# new defnition of point in which we use r and theta form"
      ],
      "metadata": {
        "id": "D5BtcydGPAiW"
      }
    },
    {
      "cell_type": "code",
      "source": [
        "class Point:\n",
        "  def __init__(self, a=0,b=0):\n",
        "    import math\n",
        "    self.r = math.sqrt(a**2 + b**2)\n",
        "    if a == 0:\n",
        "      self.theta = 0\n",
        "    else:\n",
        "      self.theta = math.atan(b/a)\n",
        "\n",
        "  def odistance(self):\n",
        "    return (self.r)\n",
        "\n",
        "  def translate(self, deltax, deltay):\n",
        "    import math\n",
        "    x = self.r * cos(self.theta)\n",
        "    y = self.r * sin(self.theta)\n",
        "    x += deltax\n",
        "    y += deltay\n",
        "    self.r = math.sqrt(x**2 + y**2)\n",
        "    if x == 0:\n",
        "      self.theta = 0\n",
        "    else:\n",
        "      self.theta = math.atan(y/x)\n",
        "\n"
      ],
      "metadata": {
        "id": "uWLShEJjO1iq"
      },
      "execution_count": 18,
      "outputs": []
    },
    {
      "cell_type": "code",
      "source": [
        "p = Point(3,4)\n",
        "q = Point(7,10)"
      ],
      "metadata": {
        "id": "QKcZZD6XQYt7"
      },
      "execution_count": 19,
      "outputs": []
    },
    {
      "cell_type": "code",
      "source": [
        "p.odistance(), q.odistance()    # the answer is still same but this uses the new definition of point in polar coordinates"
      ],
      "metadata": {
        "colab": {
          "base_uri": "https://localhost:8080/"
        },
        "id": "7V01hVNpQYqc",
        "outputId": "29df8505-53a6-4393-e045-c33b6ae84e30"
      },
      "execution_count": 21,
      "outputs": [
        {
          "output_type": "execute_result",
          "data": {
            "text/plain": [
              "(5.0, 12.206555615733702)"
            ]
          },
          "metadata": {},
          "execution_count": 21
        }
      ]
    },
    {
      "cell_type": "code",
      "source": [
        "p.r, p.theta"
      ],
      "metadata": {
        "colab": {
          "base_uri": "https://localhost:8080/"
        },
        "id": "4MhCMgMBQYn2",
        "outputId": "d9bf0db2-3480-4db4-c778-a8dc852576aa"
      },
      "execution_count": 22,
      "outputs": [
        {
          "output_type": "execute_result",
          "data": {
            "text/plain": [
              "(5.0, 0.9272952180016122)"
            ]
          },
          "metadata": {},
          "execution_count": 22
        }
      ]
    },
    {
      "cell_type": "code",
      "source": [
        "p.x       # see, this uses the new definition, cuz this doesn't have an x and y attribute"
      ],
      "metadata": {
        "colab": {
          "base_uri": "https://localhost:8080/",
          "height": 175
        },
        "id": "WghN075RQYlq",
        "outputId": "e00e47f4-5489-4cf3-c9a2-d7dc463eafc3"
      },
      "execution_count": 24,
      "outputs": [
        {
          "output_type": "error",
          "ename": "AttributeError",
          "evalue": "'Point' object has no attribute 'x'",
          "traceback": [
            "\u001b[0;31m---------------------------------------------------------------------------\u001b[0m",
            "\u001b[0;31mAttributeError\u001b[0m                            Traceback (most recent call last)",
            "\u001b[0;32m<ipython-input-24-e9397b36e745>\u001b[0m in \u001b[0;36m<cell line: 1>\u001b[0;34m()\u001b[0m\n\u001b[0;32m----> 1\u001b[0;31m \u001b[0mp\u001b[0m\u001b[0;34m.\u001b[0m\u001b[0mx\u001b[0m       \u001b[0;31m# see, this uses the new definition, cuz this doesn't have an x and y attribute\u001b[0m\u001b[0;34m\u001b[0m\u001b[0;34m\u001b[0m\u001b[0m\n\u001b[0m",
            "\u001b[0;31mAttributeError\u001b[0m: 'Point' object has no attribute 'x'"
          ]
        }
      ]
    },
    {
      "cell_type": "markdown",
      "source": [
        "# special functions"
      ],
      "metadata": {
        "id": "tNrM3u3qRfSv"
      }
    },
    {
      "cell_type": "code",
      "source": [
        "# here lets go back the original defnition and use these special functions"
      ],
      "metadata": {
        "id": "tDsNgxPMSUlr"
      },
      "execution_count": 27,
      "outputs": []
    },
    {
      "cell_type": "code",
      "source": [
        "class Point:\n",
        "  def __init__(self, a=0, b=0):\n",
        "    self.x = a\n",
        "    self.y = b\n",
        "\n",
        "  def translate(self, deltax, deltay):\n",
        "    self.x += deltax\n",
        "    self.y +=deltay\n",
        "\n",
        "  def odistance(self):     # distance from origin\n",
        "    import math\n",
        "    d = math.sqrt(self.x**2 + self.y**2)\n",
        "    return (d)\n",
        "\n",
        "  def __str__(self):\n",
        "    return('('+str(self.x)+','+str(self.y)+')')\n",
        "\n",
        "  def __add__(self, p):           # returns a new object by adding the current point (x,y) and a given point \"p\"\n",
        "    return(Point(self.x + p.x,\n",
        "                 self.y + p.y))"
      ],
      "metadata": {
        "id": "kDkHNgGIQYjN"
      },
      "execution_count": 26,
      "outputs": []
    },
    {
      "cell_type": "code",
      "source": [
        "p = Point(3,4)\n",
        "q = Point(7,10)"
      ],
      "metadata": {
        "id": "KEO55-DZQYdP"
      },
      "execution_count": 28,
      "outputs": []
    },
    {
      "cell_type": "code",
      "source": [
        "print(p)"
      ],
      "metadata": {
        "colab": {
          "base_uri": "https://localhost:8080/"
        },
        "id": "2Q5kVeD1Sd0p",
        "outputId": "58bacfec-4cfd-4967-b881-451f37e1a35f"
      },
      "execution_count": 29,
      "outputs": [
        {
          "output_type": "stream",
          "name": "stdout",
          "text": [
            "(3,4)\n"
          ]
        }
      ]
    },
    {
      "cell_type": "code",
      "source": [
        "print(p+q)   # \"+\" sign invoked the __add__ func which computed p+q, which is a new point and returned that point as we have defined in the __add__ function"
      ],
      "metadata": {
        "colab": {
          "base_uri": "https://localhost:8080/"
        },
        "id": "Es2MbS6DSgET",
        "outputId": "3de113a2-53cd-486e-d864-dc640e596f26"
      },
      "execution_count": 31,
      "outputs": [
        {
          "output_type": "stream",
          "name": "stdout",
          "text": [
            "(10,14)\n"
          ]
        }
      ]
    },
    {
      "cell_type": "code",
      "source": [
        "## see, we used this special functions and could use this print statement"
      ],
      "metadata": {
        "id": "9-wZRy-KSjC_"
      },
      "execution_count": null,
      "outputs": []
    }
  ]
}