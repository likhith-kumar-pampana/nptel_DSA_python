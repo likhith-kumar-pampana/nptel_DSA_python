{
  "nbformat": 4,
  "nbformat_minor": 0,
  "metadata": {
    "colab": {
      "provenance": []
    },
    "kernelspec": {
      "name": "python3",
      "display_name": "Python 3"
    },
    "language_info": {
      "name": "python"
    }
  },
  "cells": [
    {
      "cell_type": "markdown",
      "source": [
        "# classes and objects"
      ],
      "metadata": {
        "id": "ljJdh2CONP_Y"
      }
    },
    {
      "cell_type": "code",
      "execution_count": 10,
      "metadata": {
        "id": "rRrYjfeIMwUa"
      },
      "outputs": [],
      "source": [
        "class Point:\n",
        "  def __init__(self, a=0, b=0):\n",
        "    self.x = a\n",
        "    self.y = b\n",
        "\n",
        "  def translate(self, deltax, deltay):\n",
        "    self.x += deltax\n",
        "    self.y +=deltay\n",
        "\n",
        "  def odistance(self):     # distance from origin\n",
        "    import math\n",
        "    d = math.sqrt(self.x**2 + self.y**2)\n",
        "    return (d)"
      ]
    },
    {
      "cell_type": "code",
      "source": [
        "p = Point(3,4)\n",
        "q = Point(7,10)"
      ],
      "metadata": {
        "id": "Q9X5y3KXN6ou"
      },
      "execution_count": 11,
      "outputs": []
    },
    {
      "cell_type": "code",
      "source": [
        "print(p)"
      ],
      "metadata": {
        "colab": {
          "base_uri": "https://localhost:8080/"
        },
        "id": "wnaOmRhdN6lT",
        "outputId": "ac3e0f6a-e89e-4aa4-e08c-193d090f9843"
      },
      "execution_count": 12,
      "outputs": [
        {
          "output_type": "stream",
          "name": "stdout",
          "text": [
            "<__main__.Point object at 0x7e920dd6b880>\n"
          ]
        }
      ]
    },
    {
      "cell_type": "code",
      "source": [
        "print(p+q)"
      ],
      "metadata": {
        "colab": {
          "base_uri": "https://localhost:8080/",
          "height": 175
        },
        "id": "Xv-aEEMsN6e0",
        "outputId": "162fb154-fb3f-4bf9-877f-e83a5ea923ea"
      },
      "execution_count": 13,
      "outputs": [
        {
          "output_type": "error",
          "ename": "TypeError",
          "evalue": "unsupported operand type(s) for +: 'Point' and 'Point'",
          "traceback": [
            "\u001b[0;31m---------------------------------------------------------------------------\u001b[0m",
            "\u001b[0;31mTypeError\u001b[0m                                 Traceback (most recent call last)",
            "\u001b[0;32m<ipython-input-13-1886228b68be>\u001b[0m in \u001b[0;36m<cell line: 1>\u001b[0;34m()\u001b[0m\n\u001b[0;32m----> 1\u001b[0;31m \u001b[0mprint\u001b[0m\u001b[0;34m(\u001b[0m\u001b[0mp\u001b[0m\u001b[0;34m+\u001b[0m\u001b[0mq\u001b[0m\u001b[0;34m)\u001b[0m\u001b[0;34m\u001b[0m\u001b[0;34m\u001b[0m\u001b[0m\n\u001b[0m",
            "\u001b[0;31mTypeError\u001b[0m: unsupported operand type(s) for +: 'Point' and 'Point'"
          ]
        }
      ]
    },
    {
      "cell_type": "code",
      "source": [
        "## we need to use the special functions to add this functionality to the class\n",
        "\n",
        "## but we can use the already defined functions like"
      ],
      "metadata": {
        "id": "HZyJcKdXN6bp"
      },
      "execution_count": 14,
      "outputs": []
    },
    {
      "cell_type": "code",
      "source": [
        "p.odistance(), q.odistance()"
      ],
      "metadata": {
        "colab": {
          "base_uri": "https://localhost:8080/"
        },
        "id": "kIQmlDsYOh8T",
        "outputId": "cb02aade-e09b-442b-f27a-340d5d4bd42d"
      },
      "execution_count": 15,
      "outputs": [
        {
          "output_type": "execute_result",
          "data": {
            "text/plain": [
              "(5.0, 12.206555615733702)"
            ]
          },
          "metadata": {},
          "execution_count": 15
        }
      ]
    },
    {
      "cell_type": "code",
      "source": [
        "p.r    # cuz we did not define r (polar coordinates)"
      ],
      "metadata": {
        "colab": {
          "base_uri": "https://localhost:8080/",
          "height": 175
        },
        "id": "Ywklu41lOj0q",
        "outputId": "dd7d21e4-d0b9-4d71-c78c-f6f67ca3921c"
      },
      "execution_count": 17,
      "outputs": [
        {
          "output_type": "error",
          "ename": "AttributeError",
          "evalue": "'Point' object has no attribute 'r'",
          "traceback": [
            "\u001b[0;31m---------------------------------------------------------------------------\u001b[0m",
            "\u001b[0;31mAttributeError\u001b[0m                            Traceback (most recent call last)",
            "\u001b[0;32m<ipython-input-17-19d530a54d63>\u001b[0m in \u001b[0;36m<cell line: 1>\u001b[0;34m()\u001b[0m\n\u001b[0;32m----> 1\u001b[0;31m \u001b[0mp\u001b[0m\u001b[0;34m.\u001b[0m\u001b[0mr\u001b[0m    \u001b[0;31m# cuz we did not define r (polar coordinates)\u001b[0m\u001b[0;34m\u001b[0m\u001b[0;34m\u001b[0m\u001b[0m\n\u001b[0m",
            "\u001b[0;31mAttributeError\u001b[0m: 'Point' object has no attribute 'r'"
          ]
        }
      ]
    },
    {
      "cell_type": "markdown",
      "source": [
        "# new defnition of point in which we use r and theta form"
      ],
      "metadata": {
        "id": "D5BtcydGPAiW"
      }
    },
    {
      "cell_type": "code",
      "source": [
        "class Point:\n",
        "  def __init__(self, a=0,b=0):\n",
        "    import math\n",
        "    self.r = math.sqrt(a**2 + b**2)\n",
        "    if a == 0:\n",
        "      self.theta = 0\n",
        "    else:\n",
        "      self.theta = math.atan(b/a)\n",
        "\n",
        "  def odistance(self):\n",
        "    return (self.r)\n",
        "\n",
        "  def translate(self, deltax, deltay):\n",
        "    import math\n",
        "    x = self.r * cos(self.theta)\n",
        "    y = self.r * sin(self.theta)\n",
        "    x += deltax\n",
        "    y += deltay\n",
        "    self.r = math.sqrt(x**2 + y**2)\n",
        "    if x == 0:\n",
        "      self.theta = 0\n",
        "    else:\n",
        "      self.theta = math.atan(y/x)\n",
        "\n"
      ],
      "metadata": {
        "id": "uWLShEJjO1iq"
      },
      "execution_count": 18,
      "outputs": []
    },
    {
      "cell_type": "code",
      "source": [
        "p = Point(3,4)\n",
        "q = Point(7,10)"
      ],
      "metadata": {
        "id": "QKcZZD6XQYt7"
      },
      "execution_count": 19,
      "outputs": []
    },
    {
      "cell_type": "code",
      "source": [
        "p.odistance(), q.odistance()    # the answer is still same but this uses the new definition of point in polar coordinates"
      ],
      "metadata": {
        "colab": {
          "base_uri": "https://localhost:8080/"
        },
        "id": "7V01hVNpQYqc",
        "outputId": "29df8505-53a6-4393-e045-c33b6ae84e30"
      },
      "execution_count": 21,
      "outputs": [
        {
          "output_type": "execute_result",
          "data": {
            "text/plain": [
              "(5.0, 12.206555615733702)"
            ]
          },
          "metadata": {},
          "execution_count": 21
        }
      ]
    },
    {
      "cell_type": "code",
      "source": [
        "p.r, p.theta"
      ],
      "metadata": {
        "colab": {
          "base_uri": "https://localhost:8080/"
        },
        "id": "4MhCMgMBQYn2",
        "outputId": "d9bf0db2-3480-4db4-c778-a8dc852576aa"
      },
      "execution_count": 22,
      "outputs": [
        {
          "output_type": "execute_result",
          "data": {
            "text/plain": [
              "(5.0, 0.9272952180016122)"
            ]
          },
          "metadata": {},
          "execution_count": 22
        }
      ]
    },
    {
      "cell_type": "code",
      "source": [
        "p.x       # see, this uses the new definition, cuz this doesn't have an x and y attribute"
      ],
      "metadata": {
        "colab": {
          "base_uri": "https://localhost:8080/",
          "height": 192
        },
        "id": "WghN075RQYlq",
        "outputId": "e00e47f4-5489-4cf3-c9a2-d7dc463eafc3"
      },
      "execution_count": 24,
      "outputs": [
        {
          "output_type": "error",
          "ename": "AttributeError",
          "evalue": "'Point' object has no attribute 'x'",
          "traceback": [
            "\u001b[0;31m---------------------------------------------------------------------------\u001b[0m",
            "\u001b[0;31mAttributeError\u001b[0m                            Traceback (most recent call last)",
            "\u001b[0;32m<ipython-input-24-e9397b36e745>\u001b[0m in \u001b[0;36m<cell line: 1>\u001b[0;34m()\u001b[0m\n\u001b[0;32m----> 1\u001b[0;31m \u001b[0mp\u001b[0m\u001b[0;34m.\u001b[0m\u001b[0mx\u001b[0m       \u001b[0;31m# see, this uses the new definition, cuz this doesn't have an x and y attribute\u001b[0m\u001b[0;34m\u001b[0m\u001b[0;34m\u001b[0m\u001b[0m\n\u001b[0m",
            "\u001b[0;31mAttributeError\u001b[0m: 'Point' object has no attribute 'x'"
          ]
        }
      ]
    },
    {
      "cell_type": "markdown",
      "source": [
        "# special functions"
      ],
      "metadata": {
        "id": "tNrM3u3qRfSv"
      }
    },
    {
      "cell_type": "code",
      "source": [
        "# here lets go back the original defnition and use these special functions"
      ],
      "metadata": {
        "id": "tDsNgxPMSUlr"
      },
      "execution_count": 27,
      "outputs": []
    },
    {
      "cell_type": "code",
      "source": [
        "class Point:\n",
        "  def __init__(self, a=0, b=0):\n",
        "    self.x = a\n",
        "    self.y = b\n",
        "\n",
        "  def translate(self, deltax, deltay):\n",
        "    self.x += deltax\n",
        "    self.y +=deltay\n",
        "\n",
        "  def odistance(self):     # distance from origin\n",
        "    import math\n",
        "    d = math.sqrt(self.x**2 + self.y**2)\n",
        "    return (d)\n",
        "\n",
        "  def __str__(self):\n",
        "    return('('+str(self.x)+','+str(self.y)+')')\n",
        "\n",
        "  def __add__(self, p):           # returns a new object by adding the current point (x,y) and a given point \"p\"\n",
        "    return(Point(self.x + p.x,\n",
        "                 self.y + p.y))"
      ],
      "metadata": {
        "id": "kDkHNgGIQYjN"
      },
      "execution_count": 26,
      "outputs": []
    },
    {
      "cell_type": "code",
      "source": [
        "p = Point(3,4)\n",
        "q = Point(7,10)"
      ],
      "metadata": {
        "id": "KEO55-DZQYdP"
      },
      "execution_count": 28,
      "outputs": []
    },
    {
      "cell_type": "code",
      "source": [
        "print(p)"
      ],
      "metadata": {
        "colab": {
          "base_uri": "https://localhost:8080/"
        },
        "id": "2Q5kVeD1Sd0p",
        "outputId": "58bacfec-4cfd-4967-b881-451f37e1a35f"
      },
      "execution_count": 29,
      "outputs": [
        {
          "output_type": "stream",
          "name": "stdout",
          "text": [
            "(3,4)\n"
          ]
        }
      ]
    },
    {
      "cell_type": "code",
      "source": [
        "print(p+q)   # \"+\" sign invoked the __add__ func which computed p+q, which is a new point and returned that point as we have defined in the __add__ function"
      ],
      "metadata": {
        "colab": {
          "base_uri": "https://localhost:8080/"
        },
        "id": "Es2MbS6DSgET",
        "outputId": "3de113a2-53cd-486e-d864-dc640e596f26"
      },
      "execution_count": 31,
      "outputs": [
        {
          "output_type": "stream",
          "name": "stdout",
          "text": [
            "(10,14)\n"
          ]
        }
      ]
    },
    {
      "cell_type": "code",
      "source": [
        "## see, we used this special functions and could use this print statement"
      ],
      "metadata": {
        "id": "9-wZRy-KSjC_"
      },
      "execution_count": null,
      "outputs": []
    },
    {
      "cell_type": "code",
      "source": [],
      "metadata": {
        "id": "sYiAH_NQcEOY"
      },
      "execution_count": null,
      "outputs": []
    },
    {
      "cell_type": "markdown",
      "source": [
        "# Timer class"
      ],
      "metadata": {
        "id": "e1JcCJL9cC68"
      }
    },
    {
      "cell_type": "code",
      "source": [
        "import time\n",
        "\n",
        "\n",
        "class TimerError(Exception):      # new error that we are creating, TimerError is a new class which is of type \"exception, i.e it can onherit some exception\n",
        "  \"\"\"A custom exception used to report errors in use of TImer class\"\"\"\n",
        "\n",
        "class Timer:\n",
        "  def __init__(self):\n",
        "    self._start_time = None         # we initialized to None, instead of 0, cuz we can now check the timer is not running by checking if start time is not None\n",
        "                                    # if it is, then its a mistake and throw error and ask to use the stop()\n",
        "    self._elapsed_time = None\n",
        "\n",
        "  def start(self):\n",
        "    \"\"\"Start a new timer\"\"\"\n",
        "    if self._start_time is not None:\n",
        "      raise TimerError(\"Timer is running. Use .stop()\")\n",
        "    self._start_time = time.perf_counter()\n",
        "\n",
        "  def stop(self):\n",
        "    \"\"\"Save the elapsed time and re-initialize timer\"\"\"\n",
        "    if self._start_time is None:\n",
        "      raise TimerError(\"Timer is not running, Use .start()\")\n",
        "    self._elapsed_time = time.perf_counter() - self._start_time\n",
        "    self._start_time = None    # cuz we can run this timer again but we saved the elapsed time that can be displayed\n",
        "\n",
        "  def elapsed(self):\n",
        "    \"\"\"Report elapsed time\"\"\"\n",
        "    if self._elapsed_time is None:\n",
        "      raise TimerError(\"Timer has not been run yet. Use .start()\")\n",
        "    return(self._elapsed_time)\n",
        "\n",
        "  def __str__(self):\n",
        "    \"\"\"print() prints elapsed time\"\"\"\n",
        "    return(str(self._elapsed_time))\n",
        "\n"
      ],
      "metadata": {
        "id": "jFfv9GUgcFzt"
      },
      "execution_count": 34,
      "outputs": []
    },
    {
      "cell_type": "code",
      "source": [
        "# just to see how much time python takes to run\n",
        "\n",
        "t = Timer()\n",
        "\n",
        "for j in range(4,9):\n",
        "  t.start()\n",
        "  n = 0\n",
        "  for i in range(10**j):\n",
        "    n = n+1\n",
        "  t.stop()\n",
        "\n",
        "  print(j,t)"
      ],
      "metadata": {
        "colab": {
          "base_uri": "https://localhost:8080/"
        },
        "id": "LSry8c58e0_D",
        "outputId": "60cae6f7-7df9-4018-da83-536a5fc21258"
      },
      "execution_count": 36,
      "outputs": [
        {
          "output_type": "stream",
          "name": "stdout",
          "text": [
            "4 0.002174358999582182\n",
            "5 0.021704491000491544\n",
            "6 0.21264756500022486\n",
            "7 1.2497762720004175\n",
            "8 12.762434248000318\n"
          ]
        }
      ]
    },
    {
      "cell_type": "markdown",
      "source": [
        "# we can see the 10 factor slow down of python, also can see that python can do 10^7 operations per second. So if we increase operations by factor of 10, this loop takes 10 times as much."
      ],
      "metadata": {
        "id": "cXKifmD5gmiI"
      }
    },
    {
      "cell_type": "markdown",
      "source": [
        "# using this we can get an idea of a real program, as to how much time it can take"
      ],
      "metadata": {
        "id": "VOEd4lPyhLXM"
      }
    },
    {
      "cell_type": "code",
      "source": [],
      "metadata": {
        "id": "mLFsAALrgKCD"
      },
      "execution_count": null,
      "outputs": []
    },
    {
      "cell_type": "markdown",
      "source": [
        "# efficiancy wrt the gcd algorithm"
      ],
      "metadata": {
        "id": "C9CRyXCXkHHz"
      }
    },
    {
      "cell_type": "code",
      "source": [
        "def gcd(m,n):\n",
        "  cf = []  # list of common factors\n",
        "  for i in range(1, min(m,n)+1):     # this algo is proportional to min of two numbers\n",
        "    if (m%i)==0 and (n%i)==0:\n",
        "      cf.append(i)\n",
        "  return(cf[-1])"
      ],
      "metadata": {
        "id": "rP7PiUGXkLJo"
      },
      "execution_count": 50,
      "outputs": []
    },
    {
      "cell_type": "code",
      "source": [
        "gcd(567812346, 876543217)     # u can see that if u increase the input by a factor of 10, the code slows by a factor of 10"
      ],
      "metadata": {
        "colab": {
          "base_uri": "https://localhost:8080/"
        },
        "id": "Hgo2aAs5ke3U",
        "outputId": "a00069f7-4d68-4939-a7de-53482dd5bf4b"
      },
      "execution_count": 51,
      "outputs": [
        {
          "output_type": "execute_result",
          "data": {
            "text/plain": [
              "1"
            ]
          },
          "metadata": {},
          "execution_count": 51
        }
      ]
    },
    {
      "cell_type": "markdown",
      "source": [
        "# recursive gcd using m-n"
      ],
      "metadata": {
        "id": "yOoO2bQVlIBu"
      }
    },
    {
      "cell_type": "code",
      "source": [
        "def gcd(m,n):\n",
        "  (a,b) = (max(m,n), min(m,n))\n",
        "  if a%b == 0:\n",
        "    return(b)\n",
        "  else:\n",
        "    return(gcd(b,a-b))"
      ],
      "metadata": {
        "id": "ZC-woYSmklJq"
      },
      "execution_count": 52,
      "outputs": []
    },
    {
      "cell_type": "code",
      "source": [
        "gcd(567812346, 876543217)"
      ],
      "metadata": {
        "colab": {
          "base_uri": "https://localhost:8080/"
        },
        "id": "b48sIceola1z",
        "outputId": "6ca6406a-eeb4-4cd4-c58d-192ff0a101e1"
      },
      "execution_count": 53,
      "outputs": [
        {
          "output_type": "execute_result",
          "data": {
            "text/plain": [
              "1"
            ]
          },
          "metadata": {},
          "execution_count": 53
        }
      ]
    },
    {
      "cell_type": "code",
      "source": [
        "gcd(2, 99999999)   # this m-n also takes a long time\n",
        "# we can also see that we will hit the recursion limit in python"
      ],
      "metadata": {
        "colab": {
          "base_uri": "https://localhost:8080/",
          "height": 321
        },
        "id": "M5hjPoUcmBcH",
        "outputId": "357c9fbe-3138-4cce-a5ee-010a1a369ed8"
      },
      "execution_count": 54,
      "outputs": [
        {
          "output_type": "error",
          "ename": "RecursionError",
          "evalue": "maximum recursion depth exceeded in comparison",
          "traceback": [
            "\u001b[0;31m---------------------------------------------------------------------------\u001b[0m",
            "\u001b[0;31mRecursionError\u001b[0m                            Traceback (most recent call last)",
            "\u001b[0;32m<ipython-input-54-21c1557eea6c>\u001b[0m in \u001b[0;36m<cell line: 1>\u001b[0;34m()\u001b[0m\n\u001b[0;32m----> 1\u001b[0;31m \u001b[0mgcd\u001b[0m\u001b[0;34m(\u001b[0m\u001b[0;36m2\u001b[0m\u001b[0;34m,\u001b[0m \u001b[0;36m99999999\u001b[0m\u001b[0;34m)\u001b[0m\u001b[0;34m\u001b[0m\u001b[0;34m\u001b[0m\u001b[0m\n\u001b[0m",
            "\u001b[0;32m<ipython-input-52-f3dc3b415bd2>\u001b[0m in \u001b[0;36mgcd\u001b[0;34m(m, n)\u001b[0m\n\u001b[1;32m      4\u001b[0m     \u001b[0;32mreturn\u001b[0m\u001b[0;34m(\u001b[0m\u001b[0mb\u001b[0m\u001b[0;34m)\u001b[0m\u001b[0;34m\u001b[0m\u001b[0;34m\u001b[0m\u001b[0m\n\u001b[1;32m      5\u001b[0m   \u001b[0;32melse\u001b[0m\u001b[0;34m:\u001b[0m\u001b[0;34m\u001b[0m\u001b[0;34m\u001b[0m\u001b[0m\n\u001b[0;32m----> 6\u001b[0;31m     \u001b[0;32mreturn\u001b[0m\u001b[0;34m(\u001b[0m\u001b[0mgcd\u001b[0m\u001b[0;34m(\u001b[0m\u001b[0mb\u001b[0m\u001b[0;34m,\u001b[0m\u001b[0ma\u001b[0m\u001b[0;34m-\u001b[0m\u001b[0mb\u001b[0m\u001b[0;34m)\u001b[0m\u001b[0;34m)\u001b[0m\u001b[0;34m\u001b[0m\u001b[0;34m\u001b[0m\u001b[0m\n\u001b[0m",
            "... last 1 frames repeated, from the frame below ...\n",
            "\u001b[0;32m<ipython-input-52-f3dc3b415bd2>\u001b[0m in \u001b[0;36mgcd\u001b[0;34m(m, n)\u001b[0m\n\u001b[1;32m      4\u001b[0m     \u001b[0;32mreturn\u001b[0m\u001b[0;34m(\u001b[0m\u001b[0mb\u001b[0m\u001b[0;34m)\u001b[0m\u001b[0;34m\u001b[0m\u001b[0;34m\u001b[0m\u001b[0m\n\u001b[1;32m      5\u001b[0m   \u001b[0;32melse\u001b[0m\u001b[0;34m:\u001b[0m\u001b[0;34m\u001b[0m\u001b[0;34m\u001b[0m\u001b[0m\n\u001b[0;32m----> 6\u001b[0;31m     \u001b[0;32mreturn\u001b[0m\u001b[0;34m(\u001b[0m\u001b[0mgcd\u001b[0m\u001b[0;34m(\u001b[0m\u001b[0mb\u001b[0m\u001b[0;34m,\u001b[0m\u001b[0ma\u001b[0m\u001b[0;34m-\u001b[0m\u001b[0mb\u001b[0m\u001b[0;34m)\u001b[0m\u001b[0;34m)\u001b[0m\u001b[0;34m\u001b[0m\u001b[0;34m\u001b[0m\u001b[0m\n\u001b[0m",
            "\u001b[0;31mRecursionError\u001b[0m: maximum recursion depth exceeded in comparison"
          ]
        }
      ]
    },
    {
      "cell_type": "markdown",
      "source": [
        "# euclids algorithm\n"
      ],
      "metadata": {
        "id": "IydHbjjxmSBP"
      }
    },
    {
      "cell_type": "code",
      "source": [
        "def gcd(m,n):\n",
        "  (a,b) = (max(m,n), min(m,n))\n",
        "  if a%b == 0:\n",
        "    return(b)\n",
        "  else:\n",
        "    return(gcd(b,a%b))    # same recursion but we have % (remainder)"
      ],
      "metadata": {
        "id": "dKymDycqmH55"
      },
      "execution_count": 55,
      "outputs": []
    },
    {
      "cell_type": "code",
      "source": [
        "gcd(2, 99999999)    # we dont hit the recursion limit now"
      ],
      "metadata": {
        "colab": {
          "base_uri": "https://localhost:8080/"
        },
        "id": "WP-DTirkmaDc",
        "outputId": "db38e94a-32fb-409d-c199-2c325161f84a"
      },
      "execution_count": 56,
      "outputs": [
        {
          "output_type": "execute_result",
          "data": {
            "text/plain": [
              "1"
            ]
          },
          "metadata": {},
          "execution_count": 56
        }
      ]
    },
    {
      "cell_type": "code",
      "source": [
        "gcd(5678123483294930627394, 876543217288329845724625)"
      ],
      "metadata": {
        "colab": {
          "base_uri": "https://localhost:8080/"
        },
        "id": "MuTvvHD4mcET",
        "outputId": "c28f7173-e094-4a22-8844-e8999ea7ee7a"
      },
      "execution_count": 60,
      "outputs": [
        {
          "output_type": "execute_result",
          "data": {
            "text/plain": [
              "1"
            ]
          },
          "metadata": {},
          "execution_count": 60
        }
      ]
    },
    {
      "cell_type": "markdown",
      "source": [
        "# euclids gcd grows proportinal to digits (times 10)"
      ],
      "metadata": {
        "id": "KMs5zD34mySO"
      }
    },
    {
      "cell_type": "code",
      "source": [],
      "metadata": {
        "id": "UpzH2cT_mfwm"
      },
      "execution_count": null,
      "outputs": []
    }
  ]
}